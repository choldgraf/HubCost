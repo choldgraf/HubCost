{
 "cells": [
  {
   "cell_type": "code",
   "execution_count": 21,
   "metadata": {
    "collapsed": true
   },
   "outputs": [],
   "source": [
    "import numpy as np\n",
    "from datetime import datetime as py_dtime\n",
    "import sys\n",
    "import pandas as pd"
   ]
  },
  {
   "cell_type": "code",
   "execution_count": 28,
   "metadata": {},
   "outputs": [],
   "source": [
    "from bqplot import LinearScale, Axis, Lines, Figure, DateScale\n",
    "from bqplot.interacts import HandDraw\n",
    "from bqplot import pyplot as plt\n",
    "from traitlets import link\n",
    "from ipywidgets import ToggleButton, widgets\n",
    "from IPython.display import display\n"
   ]
  },
  {
   "cell_type": "code",
   "execution_count": 24,
   "metadata": {
    "collapsed": true
   },
   "outputs": [],
   "source": [
    "cost_per_user_per_hour = .20"
   ]
  },
  {
   "cell_type": "code",
   "execution_count": 83,
   "metadata": {},
   "outputs": [
    {
     "data": {
      "application/vnd.jupyter.widget-view+json": {
       "model_id": "251e12631419444b8dbf4afe7258d01a"
      }
     },
     "metadata": {},
     "output_type": "display_data"
    },
    {
     "data": {
      "application/vnd.jupyter.widget-view+json": {
       "model_id": "4370b46e6aaa44dfa02dc68e4aab0c20"
      }
     },
     "metadata": {},
     "output_type": "display_data"
    },
    {
     "data": {
      "application/vnd.jupyter.widget-view+json": {
       "model_id": "7fd48952f4cb4a269afd3f184d8bafbe"
      }
     },
     "metadata": {},
     "output_type": "display_data"
    }
   ],
   "source": [
    "def on_button_click(change):\n",
    "    total_area = sum(handdraw.lines.y * cost_per_user_per_hour)\n",
    "    slider.value = total_area\n",
    "\n",
    "# Slider for area\n",
    "slider = widgets.FloatSlider(\n",
    "    value=7.5,\n",
    "    min=0,\n",
    "    max=10000.0,\n",
    "    step=0.1,\n",
    "    description='Monthly cost:',\n",
    "    disabled=True,\n",
    "    continuous_update=False,\n",
    "    orientation='horizontal',\n",
    "    readout=True,\n",
    "    readout_format='.1f',\n",
    "    slider_color='white'\n",
    ")\n",
    "\n",
    "y_max = 100.\n",
    "date_start = py_dtime(2017, 1, 1, 0)\n",
    "date_stop = py_dtime(2017, 1, 30, 23)\n",
    "date_range = pd.date_range(date_start, date_stop, freq='1H')\n",
    "\n",
    "# Build the drawer\n",
    "xs_hd = DateScale(min=date_start, max=date_stop, )\n",
    "ys_hd = LinearScale(min=0., max=y_max)\n",
    "\n",
    "\n",
    "x_step = x_points[1] - x_points[0]\n",
    "\n",
    "line_hd = Lines(x=date_range, y=10 * np.ones(len(date_range)),\n",
    "                scales={'x': xs_hd, 'y': ys_hd}, colors=['#E46E2E'])\n",
    "\n",
    "is_weekend = np.where([ii in [6, 7] for ii in date_range.dayofweek], 1, 0)\n",
    "is_weekend = is_weekend * (float(y_max) + 50.)\n",
    "is_weekend[is_weekend==0] = -10\n",
    "line_fill = Lines(x=date_range, y=is_weekend, scales={'x': xs_hd, 'y': ys_hd}, colors=['black'],\n",
    "                  fill_opacities=[.2], fill='bottom')\n",
    "\n",
    "handdraw = HandDraw(lines=line_hd)\n",
    "\n",
    "xax = Axis(scale=xs_hd, label='Day', grid_lines='none')\n",
    "yax = Axis(scale=ys_hd, label='Numer of Users', orientation='vertical', grid_lines='none')\n",
    "fig = Figure(marks=[line_fill, line_hd], axes=[xax, yax], interaction=handdraw)\n",
    "\n",
    "# Button for events\n",
    "button = widgets.Button(description=\"Calculate Area\")\n",
    "button.on_click(on_button_click)\n",
    "\n",
    "# Show it\n",
    "display(fig, slider, button)"
   ]
  }
 ],
 "metadata": {
  "kernelspec": {
   "display_name": "Python 3",
   "language": "python",
   "name": "python3"
  },
  "language_info": {
   "codemirror_mode": {
    "name": "ipython",
    "version": 3
   },
   "file_extension": ".py",
   "mimetype": "text/x-python",
   "name": "python",
   "nbconvert_exporter": "python",
   "pygments_lexer": "ipython3",
   "version": "3.6.0"
  },
  "toc": {
   "toc_cell": false,
   "toc_number_sections": false,
   "toc_threshold": "2",
   "toc_window_display": false
  }
 },
 "nbformat": 4,
 "nbformat_minor": 2
}
