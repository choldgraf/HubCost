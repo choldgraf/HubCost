{
 "cells": [
  {
   "cell_type": "code",
   "execution_count": 20,
   "metadata": {
    "collapsed": true
   },
   "outputs": [],
   "source": [
    "import numpy as np\n",
    "from datetime import datetime as py_dtime\n",
    "import sys"
   ]
  },
  {
   "cell_type": "code",
   "execution_count": 30,
   "metadata": {
    "collapsed": true
   },
   "outputs": [],
   "source": [
    "from bqplot import LinearScale, Axis, Lines, Figure\n",
    "from bqplot.interacts import HandDraw\n",
    "from traitlets import link\n",
    "from ipywidgets import ToggleButton, widgets\n",
    "from IPython.display import display\n"
   ]
  },
  {
   "cell_type": "code",
   "execution_count": 66,
   "metadata": {},
   "outputs": [
    {
     "data": {
      "application/vnd.jupyter.widget-view+json": {
       "model_id": "5a26c10adeb149e98f6a8abb6d5e2b54"
      }
     },
     "metadata": {},
     "output_type": "display_data"
    },
    {
     "data": {
      "application/vnd.jupyter.widget-view+json": {
       "model_id": "285c3c11c0064e739d26419f07a69135"
      }
     },
     "metadata": {},
     "output_type": "display_data"
    },
    {
     "data": {
      "application/vnd.jupyter.widget-view+json": {
       "model_id": "e126ac641b364a788821f06f186643d4"
      }
     },
     "metadata": {},
     "output_type": "display_data"
    }
   ],
   "source": [
    "def total_area():\n",
    "    return sum(handdraw.lines.y)\n",
    "\n",
    "def on_button_click(change):\n",
    "    slider.value = total_area()\n",
    "\n",
    "# Slider for area\n",
    "slider = widgets.FloatSlider(\n",
    "    value=7.5,\n",
    "    min=0,\n",
    "    max=10000.0,\n",
    "    step=0.1,\n",
    "    description='Total cost:',\n",
    "    disabled=True,\n",
    "    continuous_update=False,\n",
    "    orientation='horizontal',\n",
    "    readout=True,\n",
    "    readout_format='.1f',\n",
    "    slider_color='white'\n",
    ")\n",
    "\n",
    "\n",
    "# Build the drawer\n",
    "xs_hd = LinearScale(min=0, max=50, )\n",
    "ys_hd = LinearScale(min=0., max=100.)\n",
    "line_hd = Lines(x=range(100), y=np.ones(100).astype(float), scales={'x': xs_hd, 'y': ys_hd}, colors=['red'])\n",
    "\n",
    "handdraw = HandDraw(lines=line_hd)\n",
    "\n",
    "xax = Axis(scale=xs_hd, label='Number of users', grid_lines='none')\n",
    "yax = Axis(scale=ys_hd, label='Amount', orientation='vertical', grid_lines='none')\n",
    "fig = Figure(marks=[line_hd], axes=[xax, yax], interaction=handdraw)\n",
    "\n",
    "# Button for events\n",
    "button = widgets.Button(description=\"Calculate Area\")\n",
    "button.on_click(on_button_click)\n",
    "\n",
    "# Show it\n",
    "display(fig, slider, button)"
   ]
  },
  {
   "cell_type": "code",
   "execution_count": null,
   "metadata": {
    "collapsed": true
   },
   "outputs": [],
   "source": []
  }
 ],
 "metadata": {
  "kernelspec": {
   "display_name": "Python 3",
   "language": "python",
   "name": "python3"
  },
  "language_info": {
   "codemirror_mode": {
    "name": "ipython",
    "version": 3
   },
   "file_extension": ".py",
   "mimetype": "text/x-python",
   "name": "python",
   "nbconvert_exporter": "python",
   "pygments_lexer": "ipython3",
   "version": "3.6.0"
  },
  "toc": {
   "toc_cell": false,
   "toc_number_sections": false,
   "toc_threshold": "2",
   "toc_window_display": false
  }
 },
 "nbformat": 4,
 "nbformat_minor": 2
}
